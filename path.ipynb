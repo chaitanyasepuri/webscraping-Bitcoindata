{
 "cells": [
  {
   "cell_type": "code",
   "execution_count": null,
   "id": "26c18fea",
   "metadata": {},
   "outputs": [
    {
     "name": "stdout",
     "output_type": "stream",
     "text": [
      "no_drop : 17310 drop : 17310 diff : 0\n",
      "https://www.blockchain.com/btc/block/14912\n",
      "time : 14150.154723882675\n",
      "no_drop : 18602 drop : 18602 diff : 0\n"
     ]
    }
   ],
   "source": [
    "from Bit import call_1\n",
    "import time\n",
    "path = '/bitcoin.csv' # location for your Bitcoin data\n",
    "start = 0\n",
    "end = 67946\n",
    "for i in range(100):\n",
    "    start_time = time.time()\n",
    "    call_1(start,end,path)\n",
    "    end_time = time.time()\n",
    "    print(\"time :\",end_time-start_time)\n"
   ]
  },
  {
   "cell_type": "code",
   "execution_count": null,
   "id": "075e8ba7",
   "metadata": {},
   "outputs": [],
   "source": []
  },
  {
   "cell_type": "code",
   "execution_count": null,
   "id": "f5689b0b",
   "metadata": {},
   "outputs": [],
   "source": []
  },
  {
   "cell_type": "code",
   "execution_count": null,
   "id": "627dbfd1",
   "metadata": {},
   "outputs": [],
   "source": []
  },
  {
   "cell_type": "code",
   "execution_count": null,
   "id": "64860fc1",
   "metadata": {},
   "outputs": [],
   "source": [
    "a = 0\n",
    "for i in range(1000):\n",
    "    a = a+1\n",
    "    if a == 100:\n",
    "        break\n",
    "    print(a)"
   ]
  },
  {
   "cell_type": "code",
   "execution_count": null,
   "id": "5944ae1e",
   "metadata": {},
   "outputs": [],
   "source": []
  }
 ],
 "metadata": {
  "kernelspec": {
   "display_name": "Python 3",
   "language": "python",
   "name": "python3"
  },
  "language_info": {
   "codemirror_mode": {
    "name": "ipython",
    "version": 3
   },
   "file_extension": ".py",
   "mimetype": "text/x-python",
   "name": "python",
   "nbconvert_exporter": "python",
   "pygments_lexer": "ipython3",
   "version": "3.9.1"
  }
 },
 "nbformat": 4,
 "nbformat_minor": 5
}
